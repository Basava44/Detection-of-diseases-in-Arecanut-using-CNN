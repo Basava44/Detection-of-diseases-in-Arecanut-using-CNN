{
 "cells": [
  {
   "cell_type": "code",
   "execution_count": 5,
   "metadata": {},
   "outputs": [],
   "source": [
    "import numpy as np\n",
    "import pickle\n",
    "import cv2\n",
    "from os import listdir\n",
    "from sklearn.preprocessing import LabelBinarizer\n",
    "from keras.models import Sequential\n",
    "from keras.layers.normalization import BatchNormalization\n",
    "from keras.layers.convolutional import Conv2D\n",
    "from keras.layers.convolutional import MaxPooling2D\n",
    "from keras.layers.core import Activation, Flatten, Dropout, Dense\n",
    "from keras import backend as K\n",
    "from keras.preprocessing.image import ImageDataGenerator\n",
    "from keras.optimizers import Adam\n",
    "from keras.preprocessing import image\n",
    "from keras.preprocessing.image import img_to_array\n",
    "from sklearn.preprocessing import MultiLabelBinarizer\n",
    "from sklearn.model_selection import train_test_split\n",
    "import matplotlib.pyplot as plt"
   ]
  },
  {
   "cell_type": "code",
   "execution_count": 6,
   "metadata": {},
   "outputs": [],
   "source": [
    "EPOCHS = 25\n",
    "INIT_LR = 1e-3\n",
    "BS = 32\n",
    "default_image_size = tuple((256, 256))\n",
    "image_size = 0\n",
    "directory_root = 'C://Users//hp//Desktop//Areca_leaves'\n",
    "width=256\n",
    "height=256\n",
    "depth=3"
   ]
  },
  {
   "cell_type": "code",
   "execution_count": 7,
   "metadata": {},
   "outputs": [],
   "source": [
    "def convert_image_to_array(image_dir):\n",
    "    try:\n",
    "        image = cv2.imread(image_dir)\n",
    "        if image is not None :\n",
    "            image = cv2.resize(image, default_image_size)   \n",
    "            return img_to_array(image)\n",
    "        else :\n",
    "            return np.array([])\n",
    "    except Exception as e:\n",
    "        print(f\"Error : {e}\")\n",
    "        return None"
   ]
  },
  {
   "cell_type": "code",
   "execution_count": 8,
   "metadata": {},
   "outputs": [
    {
     "name": "stdout",
     "output_type": "stream",
     "text": [
      "[INFO] Loading images ...\n",
      "[INFO] Processing Diseased ...\n",
      "[INFO] Processing Healthy ...\n",
      "[INFO] Image loading completed\n"
     ]
    }
   ],
   "source": [
    "image_list, label_list = [], []\n",
    "l=[]\n",
    "try:\n",
    "    print(\"[INFO] Loading images ...\")\n",
    "    root_dir = listdir(directory_root)\n",
    "    for directory in root_dir :\n",
    "        # remove .DS_Store from list\n",
    "        if directory == \".DS_Store\" :\n",
    "            root_dir.remove(directory)\n",
    "\n",
    "    for plant_folder in root_dir :\n",
    "        plant_disease_folder_list = listdir(f\"{directory_root}/{plant_folder}\")\n",
    "        \n",
    "        for disease_folder in plant_disease_folder_list :\n",
    "            # remove .DS_Store from list\n",
    "            if disease_folder == \".DS_Store\" :\n",
    "                plant_disease_folder_list.remove(disease_folder)\n",
    "\n",
    "        for plant_disease_folder in plant_disease_folder_list:\n",
    "            print(f\"[INFO] Processing {plant_disease_folder} ...\")\n",
    "            plant_disease_image_list = listdir(f\"{directory_root}/{plant_folder}/{plant_disease_folder}/\")\n",
    "                \n",
    "            for single_plant_disease_image in plant_disease_image_list :\n",
    "                if single_plant_disease_image == \".DS_Store\" :\n",
    "                    plant_disease_image_list.remove(single_plant_disease_image)\n",
    "\n",
    "            for image in plant_disease_image_list:\n",
    "                l.append(image)\n",
    "                image_directory = f\"{directory_root}/{plant_folder}/{plant_disease_folder}/{image}\"\n",
    "                if image_directory.endswith(\".jpg\") == True or image_directory.endswith(\".JPG\") == True:\n",
    "                    image_list.append(convert_image_to_array(image_directory))\n",
    "                    label_list.append(plant_disease_folder)\n",
    "    print(\"[INFO] Image loading completed\")  \n",
    "except Exception as e:\n",
    "    print(f\"Error : {e}\")"
   ]
  },
  {
   "cell_type": "code",
   "execution_count": 9,
   "metadata": {},
   "outputs": [],
   "source": [
    "image_size = len(image_list)"
   ]
  },
  {
   "cell_type": "code",
   "execution_count": 10,
   "metadata": {},
   "outputs": [],
   "source": [
    "label_binarizer = LabelBinarizer()\n",
    "image_labels = label_binarizer.fit_transform(label_list)\n",
    "#pickle.dump(label_binarizer,open('label_transform.pkl', 'wb'))\n",
    "n_classes = len(label_binarizer.classes_)"
   ]
  },
  {
   "cell_type": "code",
   "execution_count": 11,
   "metadata": {},
   "outputs": [
    {
     "name": "stdout",
     "output_type": "stream",
     "text": [
      "['Diseased' 'Healthy']\n"
     ]
    }
   ],
   "source": [
    "print(label_binarizer.classes_)"
   ]
  },
  {
   "cell_type": "code",
   "execution_count": 12,
   "metadata": {},
   "outputs": [
    {
     "name": "stdout",
     "output_type": "stream",
     "text": [
      "[[0]\n",
      " [0]\n",
      " [0]\n",
      " [0]\n",
      " [0]\n",
      " [0]\n",
      " [0]\n",
      " [0]\n",
      " [0]\n",
      " [0]\n",
      " [0]\n",
      " [0]\n",
      " [1]\n",
      " [1]\n",
      " [1]\n",
      " [1]\n",
      " [1]\n",
      " [1]\n",
      " [1]\n",
      " [1]\n",
      " [1]\n",
      " [1]\n",
      " [1]\n",
      " [1]\n",
      " [1]]\n"
     ]
    }
   ],
   "source": [
    "print(image_labels)"
   ]
  },
  {
   "cell_type": "code",
   "execution_count": 13,
   "metadata": {},
   "outputs": [],
   "source": [
    "np_image_list = np.array(image_list, dtype=np.float16) / 225.0"
   ]
  },
  {
   "cell_type": "code",
   "execution_count": 14,
   "metadata": {},
   "outputs": [
    {
     "name": "stdout",
     "output_type": "stream",
     "text": [
      "[INFO] Spliting data to train, test\n"
     ]
    }
   ],
   "source": [
    "print(\"[INFO] Spliting data to train, test\")\n",
    "x_train, x_test, y_train, y_test = train_test_split(np_image_list, image_labels, test_size=0.2, random_state = 42) "
   ]
  },
  {
   "cell_type": "code",
   "execution_count": 15,
   "metadata": {},
   "outputs": [],
   "source": [
    "aug = ImageDataGenerator(\n",
    "    rotation_range=25, width_shift_range=0.1,\n",
    "    height_shift_range=0.1, shear_range=0.2, \n",
    "    zoom_range=0.2,horizontal_flip=True, \n",
    "    fill_mode=\"nearest\")"
   ]
  },
  {
   "cell_type": "code",
   "execution_count": 16,
   "metadata": {},
   "outputs": [],
   "source": [
    "inputShape = (height, width, depth)\n",
    "chanDim = -1\n",
    "if K.image_data_format() == \"channels_first\":\n",
    "    inputShape = (depth, height, width)\n",
    "    chanDim = 1\n",
    "\n",
    "#Create models architecture\n",
    "model = Sequential()\n",
    "\n",
    "#Add the first layer\n",
    "model.add( Conv2D(32, (3,3), activation='relu', input_shape=inputShape))\n",
    "\n",
    "#Add a pooling layer\n",
    "model.add(MaxPooling2D(pool_size=(2,2)))\n",
    "\n",
    "#Add another convolutional layer\n",
    "model.add( Conv2D(32, (3,3), activation='relu'))\n",
    "\n",
    "#Add another pooling layer\n",
    "model.add(MaxPooling2D(pool_size=(2,2)))\n",
    "\n",
    "#Add a flatenning layer\n",
    "model.add(Flatten())\n",
    "\n",
    "#Add a layer with 1000 neurons\n",
    "model.add(Dense(1000, activation='relu'))\n",
    "\n",
    "#Add a dropout layer\n",
    "model.add(Dropout(0.5))\n",
    "\n",
    "#Add a layer with 500 neurons\n",
    "model.add(Dense(500, activation='relu'))\n",
    "\n",
    "#Add a dropout layer\n",
    "model.add(Dropout(0.5))\n",
    "\n",
    "#Add a layer with 250 neurons\n",
    "model.add(Dense(250, activation='relu'))\n",
    "\n",
    "#Add a layer with 10 neurons\n",
    "model.add(Dense(2, activation='softmax'))"
   ]
  },
  {
   "cell_type": "code",
   "execution_count": 17,
   "metadata": {},
   "outputs": [
    {
     "name": "stdout",
     "output_type": "stream",
     "text": [
      "Model: \"sequential\"\n",
      "_________________________________________________________________\n",
      "Layer (type)                 Output Shape              Param #   \n",
      "=================================================================\n",
      "conv2d (Conv2D)              (None, 254, 254, 32)      896       \n",
      "_________________________________________________________________\n",
      "max_pooling2d (MaxPooling2D) (None, 127, 127, 32)      0         \n",
      "_________________________________________________________________\n",
      "conv2d_1 (Conv2D)            (None, 125, 125, 32)      9248      \n",
      "_________________________________________________________________\n",
      "max_pooling2d_1 (MaxPooling2 (None, 62, 62, 32)        0         \n",
      "_________________________________________________________________\n",
      "flatten (Flatten)            (None, 123008)            0         \n",
      "_________________________________________________________________\n",
      "dense (Dense)                (None, 1000)              123009000 \n",
      "_________________________________________________________________\n",
      "dropout (Dropout)            (None, 1000)              0         \n",
      "_________________________________________________________________\n",
      "dense_1 (Dense)              (None, 500)               500500    \n",
      "_________________________________________________________________\n",
      "dropout_1 (Dropout)          (None, 500)               0         \n",
      "_________________________________________________________________\n",
      "dense_2 (Dense)              (None, 250)               125250    \n",
      "_________________________________________________________________\n",
      "dense_3 (Dense)              (None, 2)                 502       \n",
      "=================================================================\n",
      "Total params: 123,645,396\n",
      "Trainable params: 123,645,396\n",
      "Non-trainable params: 0\n",
      "_________________________________________________________________\n"
     ]
    }
   ],
   "source": [
    "model.summary()"
   ]
  },
  {
   "cell_type": "code",
   "execution_count": 42,
   "metadata": {},
   "outputs": [],
   "source": [
    "model.compile(loss = 'sparse_categorical_crossentropy',\n",
    "              optimizer = 'adam', metrics = ['accuracy'])"
   ]
  },
  {
   "cell_type": "code",
   "execution_count": 43,
   "metadata": {},
   "outputs": [
    {
     "name": "stdout",
     "output_type": "stream",
     "text": [
      "Epoch 1/30\n",
      "1/1 [==============================] - 0s 420ms/step - loss: 0.6893 - accuracy: 0.5000 - val_loss: 12.5346 - val_accuracy: 0.5000\n",
      "Epoch 2/30\n",
      "1/1 [==============================] - 0s 189ms/step - loss: 10.9045 - accuracy: 0.5625 - val_loss: 28.5306 - val_accuracy: 0.5000\n",
      "Epoch 3/30\n",
      "1/1 [==============================] - 0s 181ms/step - loss: 28.4560 - accuracy: 0.4375 - val_loss: 11.6131 - val_accuracy: 0.5000\n",
      "Epoch 4/30\n",
      "1/1 [==============================] - 0s 190ms/step - loss: 10.5759 - accuracy: 0.4375 - val_loss: 2.6782 - val_accuracy: 0.5000\n",
      "Epoch 5/30\n",
      "1/1 [==============================] - 0s 180ms/step - loss: 5.9228 - accuracy: 0.6250 - val_loss: 5.7700 - val_accuracy: 0.5000\n",
      "Epoch 6/30\n",
      "1/1 [==============================] - 0s 186ms/step - loss: 8.4977 - accuracy: 0.5625 - val_loss: 3.4320 - val_accuracy: 0.5000\n",
      "Epoch 7/30\n",
      "1/1 [==============================] - 0s 200ms/step - loss: 4.6664 - accuracy: 0.6250 - val_loss: 0.9414 - val_accuracy: 0.5000\n",
      "Epoch 8/30\n",
      "1/1 [==============================] - 0s 213ms/step - loss: 2.0943 - accuracy: 0.5000 - val_loss: 0.7578 - val_accuracy: 0.5000\n",
      "Epoch 9/30\n",
      "1/1 [==============================] - 0s 203ms/step - loss: 1.2789 - accuracy: 0.3750 - val_loss: 0.7958 - val_accuracy: 0.5000\n",
      "Epoch 10/30\n",
      "1/1 [==============================] - 0s 195ms/step - loss: 0.9302 - accuracy: 0.6250 - val_loss: 0.6485 - val_accuracy: 0.5000\n",
      "Epoch 11/30\n",
      "1/1 [==============================] - 0s 199ms/step - loss: 0.6604 - accuracy: 0.7500 - val_loss: 0.5230 - val_accuracy: 0.7500\n",
      "Epoch 12/30\n",
      "1/1 [==============================] - 0s 166ms/step - loss: 0.4044 - accuracy: 0.8750 - val_loss: 0.4945 - val_accuracy: 0.7500\n",
      "Epoch 13/30\n",
      "1/1 [==============================] - 0s 190ms/step - loss: 0.3269 - accuracy: 1.0000 - val_loss: 0.4633 - val_accuracy: 1.0000\n",
      "Epoch 14/30\n",
      "1/1 [==============================] - 0s 200ms/step - loss: 0.2616 - accuracy: 1.0000 - val_loss: 0.4148 - val_accuracy: 0.7500\n",
      "Epoch 15/30\n",
      "1/1 [==============================] - 0s 182ms/step - loss: 0.1487 - accuracy: 1.0000 - val_loss: 0.4102 - val_accuracy: 0.7500\n",
      "Epoch 16/30\n",
      "1/1 [==============================] - 0s 156ms/step - loss: 0.1224 - accuracy: 1.0000 - val_loss: 0.7426 - val_accuracy: 0.7500\n",
      "Epoch 17/30\n",
      "1/1 [==============================] - 0s 186ms/step - loss: 0.1052 - accuracy: 0.9375 - val_loss: 0.8335 - val_accuracy: 0.7500\n",
      "Epoch 18/30\n",
      "1/1 [==============================] - 0s 177ms/step - loss: 0.0650 - accuracy: 0.9375 - val_loss: 1.0803 - val_accuracy: 0.7500\n",
      "Epoch 19/30\n",
      "1/1 [==============================] - 0s 181ms/step - loss: 0.0251 - accuracy: 1.0000 - val_loss: 1.0367 - val_accuracy: 0.7500\n",
      "Epoch 20/30\n",
      "1/1 [==============================] - 0s 188ms/step - loss: 0.1225 - accuracy: 0.9375 - val_loss: 1.8710 - val_accuracy: 0.7500\n",
      "Epoch 21/30\n",
      "1/1 [==============================] - 0s 171ms/step - loss: 0.0886 - accuracy: 0.9375 - val_loss: 1.6162 - val_accuracy: 0.7500\n",
      "Epoch 22/30\n",
      "1/1 [==============================] - 0s 194ms/step - loss: 0.0089 - accuracy: 1.0000 - val_loss: 1.1601 - val_accuracy: 0.7500\n",
      "Epoch 23/30\n",
      "1/1 [==============================] - 0s 185ms/step - loss: 0.0231 - accuracy: 1.0000 - val_loss: 1.1130 - val_accuracy: 0.7500\n",
      "Epoch 24/30\n",
      "1/1 [==============================] - 0s 201ms/step - loss: 0.1013 - accuracy: 0.9375 - val_loss: 1.6914 - val_accuracy: 0.7500\n",
      "Epoch 25/30\n",
      "1/1 [==============================] - 0s 194ms/step - loss: 0.1383 - accuracy: 0.9375 - val_loss: 2.5033 - val_accuracy: 0.7500\n",
      "Epoch 26/30\n",
      "1/1 [==============================] - 0s 190ms/step - loss: 0.0091 - accuracy: 1.0000 - val_loss: 2.9770 - val_accuracy: 0.7500\n",
      "Epoch 27/30\n",
      "1/1 [==============================] - 0s 195ms/step - loss: 0.0125 - accuracy: 1.0000 - val_loss: 3.2198 - val_accuracy: 0.7500\n",
      "Epoch 28/30\n",
      "1/1 [==============================] - 0s 191ms/step - loss: 0.0515 - accuracy: 1.0000 - val_loss: 2.8854 - val_accuracy: 0.7500\n",
      "Epoch 29/30\n",
      "1/1 [==============================] - 0s 201ms/step - loss: 0.0474 - accuracy: 1.0000 - val_loss: 2.2422 - val_accuracy: 0.7500\n",
      "Epoch 30/30\n",
      "1/1 [==============================] - 0s 195ms/step - loss: 0.0046 - accuracy: 1.0000 - val_loss: 1.6155 - val_accuracy: 0.7500\n"
     ]
    }
   ],
   "source": [
    "history = model.fit(x_train, y_train, batch_size= 256,\n",
    "                 epochs = 30, \n",
    "                 validation_split = 0.2)"
   ]
  },
  {
   "cell_type": "code",
   "execution_count": 2,
   "metadata": {},
   "outputs": [],
   "source": [
    "from keras.models import load_model"
   ]
  },
  {
   "cell_type": "code",
   "execution_count": 95,
   "metadata": {},
   "outputs": [],
   "source": [
    "#model.save(\"areca_leaves.h5\")"
   ]
  },
  {
   "cell_type": "code",
   "execution_count": 19,
   "metadata": {},
   "outputs": [
    {
     "name": "stdout",
     "output_type": "stream",
     "text": [
      "WARNING:tensorflow:Error in loading the saved optimizer state. As a result, your model is starting with a freshly initialized optimizer.\n"
     ]
    }
   ],
   "source": [
    "#mode = load_model(\"areca_leaves.h5\")"
   ]
  },
  {
   "cell_type": "code",
   "execution_count": 44,
   "metadata": {
    "scrolled": true
   },
   "outputs": [
    {
     "name": "stdout",
     "output_type": "stream",
     "text": [
      "1/1 [==============================] - 0s 997us/step - loss: 0.0067 - accuracy: 1.0000\n"
     ]
    },
    {
     "data": {
      "text/plain": [
       "1.0"
      ]
     },
     "execution_count": 44,
     "metadata": {},
     "output_type": "execute_result"
    }
   ],
   "source": [
    "model.evaluate(x_test, y_test)[1]"
   ]
  },
  {
   "cell_type": "code",
   "execution_count": 45,
   "metadata": {},
   "outputs": [
    {
     "data": {
      "text/plain": [
       "'C:\\\\Users\\\\hp\\\\Downloads\\\\Compressed\\\\leaf_disease_detection-main'"
      ]
     },
     "execution_count": 45,
     "metadata": {},
     "output_type": "execute_result"
    }
   ],
   "source": [
    "pwd"
   ]
  },
  {
   "cell_type": "code",
   "execution_count": 46,
   "metadata": {},
   "outputs": [
    {
     "data": {
      "image/png": "[encoded data removed]",
      "text/plain": [
       "<Figure size 432x288 with 1 Axes>"
      ]
     },
     "metadata": {
      "needs_background": "light"
     },
     "output_type": "display_data"
    }
   ],
   "source": [
    "#Visualize model accuracy\n",
    "plt.plot(history.history['accuracy'])\n",
    "plt.plot(history.history['val_accuracy'])\n",
    "plt.title('Model Accuracy')\n",
    "plt.ylabel('Accuracy')\n",
    "plt.xlabel('Epoch')\n",
    "plt.legend(['Train', 'Val'], loc = 'upper left')\n",
    "plt.show()"
   ]
  },
  {
   "cell_type": "code",
   "execution_count": 47,
   "metadata": {},
   "outputs": [
    {
     "data": {
      "image/png": "[encoded data removed]",
      "text/plain": [
       "<Figure size 432x288 with 1 Axes>"
      ]
     },
     "metadata": {
      "needs_background": "light"
     },
     "output_type": "display_data"
    }
   ],
   "source": [
    "#Visualize model loss\n",
    "plt.plot(history.history['loss'])\n",
    "plt.plot(history.history['val_loss'])\n",
    "plt.title('Model Loss')\n",
    "plt.ylabel('Loss')\n",
    "plt.xlabel('Epoch')\n",
    "plt.legend(['Train', 'Val'], loc = 'upper right')\n",
    "plt.show()"
   ]
  },
  {
   "cell_type": "code",
   "execution_count": 48,
   "metadata": {},
   "outputs": [
    {
     "name": "stdout",
     "output_type": "stream",
     "text": [
      "[INFO] Calculating model accuracy\n",
      "1/1 [==============================] - 0s 0s/step - loss: 0.0067 - accuracy: 1.0000\n",
      "Test Accuracy: 100.0\n"
     ]
    }
   ],
   "source": [
    "print(\"[INFO] Calculating model accuracy\")\n",
    "scores = model.evaluate(x_test, y_test)\n",
    "print(f\"Test Accuracy: {scores[1]*100}\")"
   ]
  },
  {
   "cell_type": "code",
   "execution_count": 134,
   "metadata": {},
   "outputs": [],
   "source": [
    "#image_dir=\"C:\\\\Users\\\\hp\\\\Desktop\\\\Areca dataset\\\\plant_folder\\\\Leaf\\\\diseased_leaf (3).jpg\"\n",
    "#image_dir=\"C:\\\\Users\\\\hp\\\\Desktop\\\\Areca dataset\\\\plant_folder\\\\nuts\\\\healthy_nut (6).jpg\"\n",
    "#image_dir=\"C:\\\\Users\\\\hp\\\\Desktop\\\\Areca dataset\\\\plant_folder\\\\trunk\\\\Healthy (4).jpg\"\n",
    "image_dir = \"C://Users//hp//Downloads//Ayurvedic+Healing_Betel+leaf+versus+tobacco.jpg\"\n",
    "im=convert_image_to_array(image_dir)\n",
    "np_image_li = np.array(im, dtype=np.float16) / 225.0\n",
    "npp_image = np.expand_dims(np_image_li, axis=0)"
   ]
  },
  {
   "cell_type": "code",
   "execution_count": 135,
   "metadata": {},
   "outputs": [
    {
     "name": "stdout",
     "output_type": "stream",
     "text": [
      "[[0.04154948 0.9584505 ]]\n"
     ]
    }
   ],
   "source": [
    "result=model.predict(npp_image)\n",
    "\n",
    "print(result)"
   ]
  },
  {
   "cell_type": "code",
   "execution_count": 136,
   "metadata": {},
   "outputs": [
    {
     "name": "stdout",
     "output_type": "stream",
     "text": [
      "Diseased 4.15 %\n",
      "Healthy 95.85 %\n"
     ]
    }
   ],
   "source": [
    "#itemindex = np.where(result==np.max(result))\n",
    "#print(\"probability:\"+str(np.max(result))+\"\\n\"+label_binarizer.classes_[itemindex[1][0]])\n",
    "\n",
    "for i in range(len(result[0])):\n",
    "    print(label_binarizer.classes_[i]+\" \"+str(round(result[0][i]*100,2))+ \" %\")\n",
    "    "
   ]
  },
  {
   "cell_type": "code",
   "execution_count": null,
   "metadata": {},
   "outputs": [],
   "source": []
  }
 ],
 "metadata": {
  "kernelspec": {
   "display_name": "Python 3",
   "language": "python",
   "name": "python3"
  },
  "language_info": {
   "codemirror_mode": {
    "name": "ipython",
    "version": 3
   },
   "file_extension": ".py",
   "mimetype": "text/x-python",
   "name": "python",
   "nbconvert_exporter": "python",
   "pygments_lexer": "ipython3",
   "version": "3.8.5"
  }
 },
 "nbformat": 4,
 "nbformat_minor": 4
}

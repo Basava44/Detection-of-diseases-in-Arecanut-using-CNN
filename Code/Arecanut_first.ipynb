{
 "cells": [
  {
   "cell_type": "code",
   "execution_count": 252,
   "metadata": {},
   "outputs": [],
   "source": [
    "import numpy as np\n",
    "import pickle\n",
    "import cv2\n",
    "from os import listdir\n",
    "from sklearn.preprocessing import LabelBinarizer\n",
    "from keras.models import Sequential\n",
    "from keras.layers.normalization import BatchNormalization\n",
    "from keras.layers.convolutional import Conv2D\n",
    "from keras.layers.convolutional import MaxPooling2D\n",
    "from keras.layers.core import Activation, Flatten, Dropout, Dense\n",
    "from keras import backend as K\n",
    "from keras.preprocessing.image import ImageDataGenerator\n",
    "from keras.optimizers import Adam\n",
    "from keras.preprocessing import image\n",
    "from keras.preprocessing.image import img_to_array\n",
    "from sklearn.preprocessing import MultiLabelBinarizer\n",
    "from sklearn.model_selection import train_test_split\n",
    "import matplotlib.pyplot as plt"
   ]
  },
  {
   "cell_type": "code",
   "execution_count": 253,
   "metadata": {},
   "outputs": [],
   "source": [
    "EPOCHS = 25\n",
    "INIT_LR = 1e-3\n",
    "BS = 32\n",
    "default_image_size = tuple((256, 256))\n",
    "image_size = 0\n",
    "directory_root = 'C://Users//hp//Desktop//Areca dataset'\n",
    "width=256\n",
    "height=256\n",
    "depth=3"
   ]
  },
  {
   "cell_type": "code",
   "execution_count": 254,
   "metadata": {},
   "outputs": [],
   "source": [
    "def convert_image_to_array(image_dir):\n",
    "    try:\n",
    "        image = cv2.imread(image_dir)\n",
    "        if image is not None :\n",
    "            image = cv2.resize(image, default_image_size)   \n",
    "            return img_to_array(image)\n",
    "        else :\n",
    "            return np.array([])\n",
    "    except Exception as e:\n",
    "        print(f\"Error : {e}\")\n",
    "        return None"
   ]
  },
  {
   "cell_type": "code",
   "execution_count": 255,
   "metadata": {},
   "outputs": [
    {
     "name": "stdout",
     "output_type": "stream",
     "text": [
      "[INFO] Loading images ...\n",
      "[INFO] Processing Leaf ...\n",
      "[INFO] Processing nuts ...\n",
      "[INFO] Processing trunk ...\n",
      "[INFO] Image loading completed\n"
     ]
    }
   ],
   "source": [
    "image_list, label_list = [], []\n",
    "l=[]\n",
    "try:\n",
    "    print(\"[INFO] Loading images ...\")\n",
    "    root_dir = listdir(directory_root)\n",
    "    for directory in root_dir :\n",
    "        # remove .DS_Store from list\n",
    "        if directory == \".DS_Store\" :\n",
    "            root_dir.remove(directory)\n",
    "\n",
    "    for plant_folder in root_dir :\n",
    "        plant_disease_folder_list = listdir(f\"{directory_root}/{plant_folder}\")\n",
    "        \n",
    "        for disease_folder in plant_disease_folder_list :\n",
    "            # remove .DS_Store from list\n",
    "            if disease_folder == \".DS_Store\" :\n",
    "                plant_disease_folder_list.remove(disease_folder)\n",
    "\n",
    "        for plant_disease_folder in plant_disease_folder_list:\n",
    "            print(f\"[INFO] Processing {plant_disease_folder} ...\")\n",
    "            plant_disease_image_list = listdir(f\"{directory_root}/{plant_folder}/{plant_disease_folder}/\")\n",
    "                \n",
    "            for single_plant_disease_image in plant_disease_image_list :\n",
    "                if single_plant_disease_image == \".DS_Store\" :\n",
    "                    plant_disease_image_list.remove(single_plant_disease_image)\n",
    "\n",
    "            for image in plant_disease_image_list:\n",
    "                l.append(image)\n",
    "                image_directory = f\"{directory_root}/{plant_folder}/{plant_disease_folder}/{image}\"\n",
    "                if image_directory.endswith(\".jpg\") == True or image_directory.endswith(\".JPG\") == True:\n",
    "                    image_list.append(convert_image_to_array(image_directory))\n",
    "                    label_list.append(plant_disease_folder)\n",
    "    print(\"[INFO] Image loading completed\")  \n",
    "except Exception as e:\n",
    "    print(f\"Error : {e}\")"
   ]
  },
  {
   "cell_type": "code",
   "execution_count": 256,
   "metadata": {},
   "outputs": [],
   "source": [
    "image_size = len(image_list)"
   ]
  },
  {
   "cell_type": "code",
   "execution_count": 257,
   "metadata": {},
   "outputs": [],
   "source": [
    "label_binarizer = LabelBinarizer()\n",
    "image_labels = label_binarizer.fit_transform(label_list)\n",
    "#pickle.dump(label_binarizer,open('label_transform.pkl', 'wb'))\n",
    "n_classes = len(label_binarizer.classes_)"
   ]
  },
  {
   "cell_type": "code",
   "execution_count": 258,
   "metadata": {},
   "outputs": [
    {
     "name": "stdout",
     "output_type": "stream",
     "text": [
      "['Leaf' 'nuts' 'trunk']\n"
     ]
    }
   ],
   "source": [
    "print(label_binarizer.classes_)"
   ]
  },
  {
   "cell_type": "code",
   "execution_count": 323,
   "metadata": {},
   "outputs": [],
   "source": [
    "#print(image_labels)"
   ]
  },
  {
   "cell_type": "code",
   "execution_count": 324,
   "metadata": {},
   "outputs": [],
   "source": [
    "#print(image_list)"
   ]
  },
  {
   "cell_type": "code",
   "execution_count": 261,
   "metadata": {},
   "outputs": [],
   "source": [
    "np_image_list = np.array(image_list, dtype=np.float16) / 225.0"
   ]
  },
  {
   "cell_type": "code",
   "execution_count": 262,
   "metadata": {},
   "outputs": [
    {
     "name": "stdout",
     "output_type": "stream",
     "text": [
      "[INFO] Spliting data to train, test\n"
     ]
    }
   ],
   "source": [
    "print(\"[INFO] Spliting data to train, test\")\n",
    "x_train, x_test, y_train, y_test = train_test_split(np_image_list, image_labels, test_size=0.2, random_state = 42) "
   ]
  },
  {
   "cell_type": "code",
   "execution_count": 263,
   "metadata": {},
   "outputs": [],
   "source": [
    "aug = ImageDataGenerator(\n",
    "    rotation_range=25, width_shift_range=0.1,\n",
    "    height_shift_range=0.1, shear_range=0.2, \n",
    "    zoom_range=0.2,horizontal_flip=True, \n",
    "    fill_mode=\"nearest\")"
   ]
  },
  {
   "cell_type": "code",
   "execution_count": 264,
   "metadata": {},
   "outputs": [],
   "source": [
    "'''model = Sequential()\n",
    "inputShape = (height, width, depth)\n",
    "chanDim = -1\n",
    "if K.image_data_format() == \"channels_first\":\n",
    "    inputShape = (depth, height, width)\n",
    "    chanDim = 1\n",
    "model.add(Conv2D(32, (3, 3), padding=\"same\",input_shape=inputShape))\n",
    "model.add(Activation(\"relu\"))\n",
    "model.add(BatchNormalization(axis=chanDim))\n",
    "model.add(MaxPooling2D(pool_size=(3, 3)))\n",
    "model.add(Dropout(0.25))\n",
    "model.add(Conv2D(64, (3, 3), padding=\"same\"))\n",
    "model.add(Activation(\"relu\"))\n",
    "model.add(BatchNormalization(axis=chanDim))\n",
    "model.add(Conv2D(64, (3, 3), padding=\"same\"))\n",
    "model.add(Activation(\"relu\"))\n",
    "model.add(BatchNormalization(axis=chanDim))\n",
    "model.add(MaxPooling2D(pool_size=(2, 2)))\n",
    "model.add(Dropout(0.25))\n",
    "model.add(Conv2D(128, (3, 3), padding=\"same\"))\n",
    "model.add(Activation(\"relu\"))\n",
    "model.add(BatchNormalization(axis=chanDim))\n",
    "model.add(Conv2D(128, (3, 3), padding=\"same\"))\n",
    "model.add(Activation(\"relu\"))\n",
    "model.add(BatchNormalization(axis=chanDim))\n",
    "model.add(MaxPooling2D(pool_size=(2, 2)))\n",
    "model.add(Dropout(0.25))\n",
    "model.add(Flatten())\n",
    "model.add(Dense(1024))\n",
    "model.add(Activation(\"relu\"))\n",
    "model.add(BatchNormalization())\n",
    "model.add(Dropout(0.5))\n",
    "model.add(Dense(n_classes))\n",
    "model.add(Activation(\"softmax\"))'''\n",
    "\n",
    "inputShape = (height, width, depth)\n",
    "chanDim = -1\n",
    "if K.image_data_format() == \"channels_first\":\n",
    "    inputShape = (depth, height, width)\n",
    "    chanDim = 1\n",
    "\n",
    "#Create models architecture\n",
    "model = Sequential()\n",
    "\n",
    "#Add the first layer\n",
    "model.add( Conv2D(32, (3,3), activation='relu', input_shape=inputShape))\n",
    "\n",
    "#Add a pooling layer\n",
    "model.add(MaxPooling2D(pool_size=(2,2)))\n",
    "\n",
    "#Add another convolutional layer\n",
    "model.add( Conv2D(32, (3,3), activation='relu'))\n",
    "\n",
    "#Add another pooling layer\n",
    "model.add(MaxPooling2D(pool_size=(2,2)))\n",
    "\n",
    "#Add a flatenning layer\n",
    "model.add(Flatten())\n",
    "\n",
    "#Add a layer with 1000 neurons\n",
    "model.add(Dense(1000, activation='relu'))\n",
    "\n",
    "#Add a dropout layer\n",
    "model.add(Dropout(0.5))\n",
    "\n",
    "#Add a layer with 500 neurons\n",
    "model.add(Dense(500, activation='relu'))\n",
    "\n",
    "#Add a dropout layer\n",
    "model.add(Dropout(0.5))\n",
    "\n",
    "#Add a layer with 250 neurons\n",
    "model.add(Dense(250, activation='relu'))\n",
    "\n",
    "#Add a layer with 10 neurons\n",
    "model.add(Dense(3, activation='softmax'))"
   ]
  },
  {
   "cell_type": "code",
   "execution_count": 265,
   "metadata": {},
   "outputs": [
    {
     "name": "stdout",
     "output_type": "stream",
     "text": [
      "Model: \"sequential_7\"\n",
      "_________________________________________________________________\n",
      "Layer (type)                 Output Shape              Param #   \n",
      "=================================================================\n",
      "conv2d_14 (Conv2D)           (None, 254, 254, 32)      896       \n",
      "_________________________________________________________________\n",
      "max_pooling2d_10 (MaxPooling (None, 127, 127, 32)      0         \n",
      "_________________________________________________________________\n",
      "conv2d_15 (Conv2D)           (None, 125, 125, 32)      9248      \n",
      "_________________________________________________________________\n",
      "max_pooling2d_11 (MaxPooling (None, 62, 62, 32)        0         \n",
      "_________________________________________________________________\n",
      "flatten_4 (Flatten)          (None, 123008)            0         \n",
      "_________________________________________________________________\n",
      "dense_12 (Dense)             (None, 1000)              123009000 \n",
      "_________________________________________________________________\n",
      "dropout_12 (Dropout)         (None, 1000)              0         \n",
      "_________________________________________________________________\n",
      "dense_13 (Dense)             (None, 500)               500500    \n",
      "_________________________________________________________________\n",
      "dropout_13 (Dropout)         (None, 500)               0         \n",
      "_________________________________________________________________\n",
      "dense_14 (Dense)             (None, 250)               125250    \n",
      "_________________________________________________________________\n",
      "dense_15 (Dense)             (None, 3)                 753       \n",
      "=================================================================\n",
      "Total params: 123,645,647\n",
      "Trainable params: 123,645,647\n",
      "Non-trainable params: 0\n",
      "_________________________________________________________________\n"
     ]
    }
   ],
   "source": [
    "model.summary()"
   ]
  },
  {
   "cell_type": "code",
   "execution_count": 266,
   "metadata": {},
   "outputs": [],
   "source": [
    "''''opt = Adam(lr=INIT_LR, decay=INIT_LR / EPOCHS)\n",
    "# distribution\n",
    "model.compile(loss=\"binary_crossentropy\", optimizer=opt,metrics=[\"accuracy\"])\n",
    "# train the network\n",
    "print(\"[INFO] training network...\")'''\n",
    "\n",
    "#Compile\n",
    "model.compile(loss = 'categorical_crossentropy',\n",
    "              optimizer = 'adam', metrics = ['accuracy'])"
   ]
  },
  {
   "cell_type": "code",
   "execution_count": 267,
   "metadata": {},
   "outputs": [
    {
     "name": "stdout",
     "output_type": "stream",
     "text": [
      "Epoch 1/50\n",
      "1/1 [==============================] - 53s 53s/step - loss: 1.2096 - accuracy: 0.3372 - val_loss: 23.1165 - val_accuracy: 0.0909\n",
      "Epoch 2/50\n",
      "1/1 [==============================] - 16s 16s/step - loss: 12.3425 - accuracy: 0.4884 - val_loss: 14.4396 - val_accuracy: 0.6364\n",
      "Epoch 3/50\n",
      "1/1 [==============================] - 23s 23s/step - loss: 26.4030 - accuracy: 0.4302 - val_loss: 0.8832 - val_accuracy: 0.8182\n",
      "Epoch 4/50\n",
      "1/1 [==============================] - 30s 30s/step - loss: 8.1251 - accuracy: 0.3953 - val_loss: 6.4260 - val_accuracy: 0.2727\n",
      "Epoch 5/50\n",
      "1/1 [==============================] - 13s 13s/step - loss: 5.9208 - accuracy: 0.2093 - val_loss: 4.4015 - val_accuracy: 0.0909\n",
      "Epoch 6/50\n",
      "1/1 [==============================] - 22s 22s/step - loss: 2.7239 - accuracy: 0.4302 - val_loss: 3.3207 - val_accuracy: 0.0909\n",
      "Epoch 7/50\n",
      "1/1 [==============================] - 1s 635ms/step - loss: 1.9877 - accuracy: 0.4419 - val_loss: 1.7422 - val_accuracy: 0.0909\n",
      "Epoch 8/50\n",
      "1/1 [==============================] - 27s 27s/step - loss: 1.2196 - accuracy: 0.4651 - val_loss: 1.0545 - val_accuracy: 0.7273\n",
      "Epoch 9/50\n",
      "1/1 [==============================] - 61s 61s/step - loss: 0.9485 - accuracy: 0.5581 - val_loss: 0.9138 - val_accuracy: 0.6364\n",
      "Epoch 10/50\n",
      "1/1 [==============================] - 31s 31s/step - loss: 0.9888 - accuracy: 0.5465 - val_loss: 0.8584 - val_accuracy: 0.7273\n",
      "Epoch 11/50\n",
      "1/1 [==============================] - 23s 23s/step - loss: 0.8251 - accuracy: 0.5698 - val_loss: 0.8295 - val_accuracy: 0.7273\n",
      "Epoch 12/50\n",
      "1/1 [==============================] - 31s 31s/step - loss: 0.7732 - accuracy: 0.6977 - val_loss: 0.7838 - val_accuracy: 0.7727\n",
      "Epoch 13/50\n",
      "1/1 [==============================] - 18s 18s/step - loss: 0.7082 - accuracy: 0.6395 - val_loss: 0.6809 - val_accuracy: 0.8182\n",
      "Epoch 14/50\n",
      "1/1 [==============================] - 43s 43s/step - loss: 0.5711 - accuracy: 0.8023 - val_loss: 0.4562 - val_accuracy: 0.9545\n",
      "Epoch 15/50\n",
      "1/1 [==============================] - 57s 57s/step - loss: 0.4660 - accuracy: 0.8140 - val_loss: 0.2640 - val_accuracy: 0.9545\n",
      "Epoch 16/50\n",
      "1/1 [==============================] - 23s 23s/step - loss: 0.3648 - accuracy: 0.8721 - val_loss: 0.2386 - val_accuracy: 1.0000\n",
      "Epoch 17/50\n",
      "1/1 [==============================] - 15s 15s/step - loss: 0.3582 - accuracy: 0.8372 - val_loss: 0.1804 - val_accuracy: 1.0000\n",
      "Epoch 18/50\n",
      "1/1 [==============================] - 1s 565ms/step - loss: 0.2577 - accuracy: 0.9186 - val_loss: 0.1267 - val_accuracy: 1.0000\n",
      "Epoch 19/50\n",
      "1/1 [==============================] - 1s 523ms/step - loss: 0.1709 - accuracy: 0.9651 - val_loss: 0.0675 - val_accuracy: 1.0000\n",
      "Epoch 20/50\n",
      "1/1 [==============================] - 1s 549ms/step - loss: 0.1805 - accuracy: 0.9767 - val_loss: 0.0668 - val_accuracy: 0.9545\n",
      "Epoch 21/50\n",
      "1/1 [==============================] - 0s 482ms/step - loss: 0.1341 - accuracy: 0.9884 - val_loss: 0.0537 - val_accuracy: 1.0000\n",
      "Epoch 22/50\n",
      "1/1 [==============================] - 0s 462ms/step - loss: 0.1070 - accuracy: 0.9651 - val_loss: 0.0651 - val_accuracy: 0.9545\n",
      "Epoch 23/50\n",
      "1/1 [==============================] - 0s 500ms/step - loss: 0.0802 - accuracy: 0.9651 - val_loss: 0.0913 - val_accuracy: 0.9545\n",
      "Epoch 24/50\n",
      "1/1 [==============================] - 0s 498ms/step - loss: 0.1166 - accuracy: 0.9535 - val_loss: 0.0790 - val_accuracy: 0.9545\n",
      "Epoch 25/50\n",
      "1/1 [==============================] - 0s 460ms/step - loss: 0.0712 - accuracy: 0.9884 - val_loss: 0.0514 - val_accuracy: 1.0000\n",
      "Epoch 26/50\n",
      "1/1 [==============================] - 0s 465ms/step - loss: 0.0201 - accuracy: 1.0000 - val_loss: 0.0905 - val_accuracy: 0.9545\n",
      "Epoch 27/50\n",
      "1/1 [==============================] - 0s 448ms/step - loss: 0.0504 - accuracy: 0.9767 - val_loss: 0.0558 - val_accuracy: 0.9545\n",
      "Epoch 28/50\n",
      "1/1 [==============================] - 0s 447ms/step - loss: 0.0672 - accuracy: 0.9767 - val_loss: 0.1572 - val_accuracy: 0.9545\n",
      "Epoch 29/50\n",
      "1/1 [==============================] - 1s 905ms/step - loss: 0.0623 - accuracy: 0.9651 - val_loss: 0.1165 - val_accuracy: 0.9545\n",
      "Epoch 30/50\n",
      "1/1 [==============================] - 0s 470ms/step - loss: 0.0104 - accuracy: 1.0000 - val_loss: 0.1026 - val_accuracy: 0.9545\n",
      "Epoch 31/50\n",
      "1/1 [==============================] - 1s 527ms/step - loss: 0.0203 - accuracy: 0.9884 - val_loss: 0.1137 - val_accuracy: 0.9545\n",
      "Epoch 32/50\n",
      "1/1 [==============================] - 1s 541ms/step - loss: 0.0538 - accuracy: 0.9884 - val_loss: 0.0841 - val_accuracy: 0.9545\n",
      "Epoch 33/50\n",
      "1/1 [==============================] - 0s 459ms/step - loss: 0.0336 - accuracy: 0.9767 - val_loss: 0.0720 - val_accuracy: 0.9545\n",
      "Epoch 34/50\n",
      "1/1 [==============================] - 0s 455ms/step - loss: 0.0134 - accuracy: 1.0000 - val_loss: 0.0741 - val_accuracy: 0.9545\n",
      "Epoch 35/50\n",
      "1/1 [==============================] - 0s 483ms/step - loss: 0.0072 - accuracy: 1.0000 - val_loss: 0.0747 - val_accuracy: 0.9545\n",
      "Epoch 36/50\n",
      "1/1 [==============================] - 0s 471ms/step - loss: 0.0050 - accuracy: 1.0000 - val_loss: 0.0879 - val_accuracy: 0.9545\n",
      "Epoch 37/50\n",
      "1/1 [==============================] - 1s 501ms/step - loss: 0.0128 - accuracy: 1.0000 - val_loss: 0.1727 - val_accuracy: 0.9545\n",
      "Epoch 38/50\n",
      "1/1 [==============================] - 0s 472ms/step - loss: 0.0041 - accuracy: 1.0000 - val_loss: 0.2774 - val_accuracy: 0.9545\n",
      "Epoch 39/50\n",
      "1/1 [==============================] - 1s 507ms/step - loss: 0.0294 - accuracy: 0.9884 - val_loss: 0.1450 - val_accuracy: 0.9545\n",
      "Epoch 40/50\n",
      "1/1 [==============================] - 0s 500ms/step - loss: 0.0019 - accuracy: 1.0000 - val_loss: 0.0565 - val_accuracy: 0.9545\n",
      "Epoch 41/50\n",
      "1/1 [==============================] - 0s 483ms/step - loss: 0.0011 - accuracy: 1.0000 - val_loss: 0.0558 - val_accuracy: 0.9545\n",
      "Epoch 42/50\n",
      "1/1 [==============================] - 1s 519ms/step - loss: 0.0255 - accuracy: 0.9884 - val_loss: 0.0474 - val_accuracy: 0.9545\n",
      "Epoch 43/50\n",
      "1/1 [==============================] - 0s 482ms/step - loss: 0.0025 - accuracy: 1.0000 - val_loss: 0.0363 - val_accuracy: 1.0000\n",
      "Epoch 44/50\n",
      "1/1 [==============================] - 0s 474ms/step - loss: 0.0048 - accuracy: 1.0000 - val_loss: 0.0405 - val_accuracy: 1.0000\n",
      "Epoch 45/50\n",
      "1/1 [==============================] - 1s 527ms/step - loss: 8.1401e-04 - accuracy: 1.0000 - val_loss: 0.0893 - val_accuracy: 0.9545\n",
      "Epoch 46/50\n",
      "1/1 [==============================] - 1s 507ms/step - loss: 0.0028 - accuracy: 1.0000 - val_loss: 0.1873 - val_accuracy: 0.9545\n",
      "Epoch 47/50\n",
      "1/1 [==============================] - 1s 588ms/step - loss: 0.0055 - accuracy: 1.0000 - val_loss: 0.2702 - val_accuracy: 0.9545\n",
      "Epoch 48/50\n",
      "1/1 [==============================] - 0s 478ms/step - loss: 0.0015 - accuracy: 1.0000 - val_loss: 0.3481 - val_accuracy: 0.9545\n",
      "Epoch 49/50\n",
      "1/1 [==============================] - 0s 463ms/step - loss: 0.0079 - accuracy: 1.0000 - val_loss: 0.3528 - val_accuracy: 0.9545\n",
      "Epoch 50/50\n",
      "1/1 [==============================] - 0s 455ms/step - loss: 0.0037 - accuracy: 1.0000 - val_loss: 0.3385 - val_accuracy: 0.9545\n"
     ]
    }
   ],
   "source": [
    "'''history = model.fit_generator(\n",
    "    aug.flow(x_train, y_train, batch_size=BS),\n",
    "    validation_data=(x_test, y_test),\n",
    "    steps_per_epoch=len(x_train) // BS,\n",
    "    epochs=EPOCHS, verbose=1\n",
    "    )'''\n",
    "\n",
    "history = model.fit(x_train, y_train, batch_size= 256,\n",
    "                 epochs = 50, \n",
    "                 validation_split = 0.2)"
   ]
  },
  {
   "cell_type": "code",
   "execution_count": 268,
   "metadata": {},
   "outputs": [
    {
     "name": "stdout",
     "output_type": "stream",
     "text": [
      "1/1 [==============================] - 0s 16ms/step - loss: 0.6490 - accuracy: 0.8519\n"
     ]
    },
    {
     "data": {
      "text/plain": [
       "0.8518518805503845"
      ]
     },
     "execution_count": 268,
     "metadata": {},
     "output_type": "execute_result"
    }
   ],
   "source": [
    "#Evaluate model using test data\n",
    "model.evaluate(x_test, y_test)[1]"
   ]
  },
  {
   "cell_type": "code",
   "execution_count": 269,
   "metadata": {},
   "outputs": [
    {
     "data": {
      "image/png": "[encoded data removed]",
      "text/plain": [
       "<Figure size 432x288 with 1 Axes>"
      ]
     },
     "metadata": {
      "needs_background": "light"
     },
     "output_type": "display_data"
    }
   ],
   "source": [
    "#Visualize model accuracy\n",
    "plt.plot(history.history['accuracy'])\n",
    "plt.plot(history.history['val_accuracy'])\n",
    "plt.title('Model Accuracy')\n",
    "plt.ylabel('Accuracy')\n",
    "plt.xlabel('Epoch')\n",
    "plt.legend(['Train', 'Val'], loc = 'upper left')\n",
    "plt.show()"
   ]
  },
  {
   "cell_type": "code",
   "execution_count": 270,
   "metadata": {},
   "outputs": [
    {
     "data": {
      "image/png": "[encoded data removed]",
      "text/plain": [
       "<Figure size 432x288 with 1 Axes>"
      ]
     },
     "metadata": {
      "needs_background": "light"
     },
     "output_type": "display_data"
    }
   ],
   "source": [
    "#Visualize model loss\n",
    "plt.plot(history.history['loss'])\n",
    "plt.plot(history.history['val_loss'])\n",
    "plt.title('Model Loss')\n",
    "plt.ylabel('Loss')\n",
    "plt.xlabel('Epoch')\n",
    "plt.legend(['Train', 'Val'], loc = 'upper right')\n",
    "plt.show()"
   ]
  },
  {
   "cell_type": "code",
   "execution_count": 271,
   "metadata": {
    "scrolled": true
   },
   "outputs": [
    {
     "name": "stdout",
     "output_type": "stream",
     "text": [
      "[INFO] Calculating model accuracy\n",
      "1/1 [==============================] - 0s 0s/step - loss: 0.6490 - accuracy: 0.8519\n",
      "Test Accuracy: 85.18518805503845\n"
     ]
    }
   ],
   "source": [
    "print(\"[INFO] Calculating model accuracy\")\n",
    "scores = model.evaluate(x_test, y_test)\n",
    "print(f\"Test Accuracy: {scores[1]*100}\")"
   ]
  },
  {
   "cell_type": "code",
   "execution_count": 272,
   "metadata": {},
   "outputs": [],
   "source": [
    "loaded_model = model"
   ]
  },
  {
   "cell_type": "code",
   "execution_count": 331,
   "metadata": {},
   "outputs": [],
   "source": [
    "#image_dir=\"C:\\\\Users\\\\hp\\\\Desktop\\\\Areca dataset\\\\plant_folder\\\\Leaf\\\\diseased_leaf (11).jpg\"\n",
    "#image_dir=\"C:\\\\Users\\\\hp\\\\Desktop\\\\Areca dataset\\\\plant_folder\\\\nuts\\\\healthy_nut (6).jpg\"\n",
    "image_dir=\"C:\\\\Users\\\\hp\\\\Desktop\\\\Areca dataset\\\\plant_folder\\\\trunk\\\\Healthy (4).jpg\"\n",
    "im=convert_image_to_array(image_dir)\n",
    "np_image_li = np.array(im, dtype=np.float16) / 225.0\n",
    "npp_image = np.expand_dims(np_image_li, axis=0)"
   ]
  },
  {
   "cell_type": "code",
   "execution_count": 332,
   "metadata": {},
   "outputs": [
    {
     "name": "stdout",
     "output_type": "stream",
     "text": [
      "[[6.8399409e-08 3.6573532e-04 9.9963415e-01]]\n"
     ]
    }
   ],
   "source": [
    "result=model.predict(npp_image)\n",
    "\n",
    "print(result)"
   ]
  },
  {
   "cell_type": "code",
   "execution_count": 333,
   "metadata": {},
   "outputs": [
    {
     "name": "stdout",
     "output_type": "stream",
     "text": [
      "Leaf 0.0 %\n",
      "nuts 0.04 %\n",
      "trunk 99.96 %\n"
     ]
    }
   ],
   "source": [
    "#itemindex = np.where(result==np.max(result))\n",
    "#print(\"probability:\"+str(np.max(result))+\"\\n\"+label_binarizer.classes_[itemindex[1][0]])\n",
    "\n",
    "for i in range(len(result[0])):\n",
    "    print(label_binarizer.classes_[i]+\" \"+str(round(result[0][i]*100,2))+ \" %\")\n",
    "    "
   ]
  },
  {
   "cell_type": "code",
   "execution_count": null,
   "metadata": {},
   "outputs": [],
   "source": []
  }
 ],
 "metadata": {
  "kernelspec": {
   "display_name": "Python 3",
   "language": "python",
   "name": "python3"
  },
  "language_info": {
   "codemirror_mode": {
    "name": "ipython",
    "version": 3
   },
   "file_extension": ".py",
   "mimetype": "text/x-python",
   "name": "python",
   "nbconvert_exporter": "python",
   "pygments_lexer": "ipython3",
   "version": "3.8.5"
  }
 },
 "nbformat": 4,
 "nbformat_minor": 4
}
